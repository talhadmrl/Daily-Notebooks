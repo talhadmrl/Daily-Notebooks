{
 "cells": [
  {
   "cell_type": "code",
   "execution_count": 192,
   "id": "a281e92f-779e-4acc-bf08-e117ebf9f46f",
   "metadata": {},
   "outputs": [],
   "source": [
    "import numpy as np\n",
    "import pandas as pd\n",
    "import matplotlib.pyplot as plt\n",
    "import seaborn as sns\n",
    "from sklearn.model_selection import train_test_split\n",
    "from sklearn.preprocessing import LabelEncoder\n",
    "from sklearn.model_selection import KFold\n",
    "from sklearn.linear_model import LinearRegression, Ridge, Lasso\n",
    "from sklearn.metrics import mean_absolute_error, mean_squared_error, r2_score\n",
    "from sklearn.preprocessing import StandardScaler\n",
    "from sklearn.feature_selection import SelectKBest, f_regression\n",
    "from sklearn.model_selection import GridSearchCV\n",
    "from lazypredict.Supervised import LazyRegressor\n",
    "import warnings"
   ]
  },
  {
   "cell_type": "code",
   "execution_count": 150,
   "id": "d19f24fa-1a64-45eb-b88a-da79f5257c09",
   "metadata": {},
   "outputs": [],
   "source": [
    "warnings.filterwarnings('ignore')\n",
    "df =pd.read_csv(\"2-CarPrice_Assignment.csv\")"
   ]
  },
  {
   "cell_type": "code",
   "execution_count": 151,
   "id": "c7b511c6-3009-4392-a78c-67efd366236d",
   "metadata": {},
   "outputs": [
    {
     "data": {
      "text/html": [
       "<div>\n",
       "<style scoped>\n",
       "    .dataframe tbody tr th:only-of-type {\n",
       "        vertical-align: middle;\n",
       "    }\n",
       "\n",
       "    .dataframe tbody tr th {\n",
       "        vertical-align: top;\n",
       "    }\n",
       "\n",
       "    .dataframe thead th {\n",
       "        text-align: right;\n",
       "    }\n",
       "</style>\n",
       "<table border=\"1\" class=\"dataframe\">\n",
       "  <thead>\n",
       "    <tr style=\"text-align: right;\">\n",
       "      <th></th>\n",
       "      <th>car_ID</th>\n",
       "      <th>symboling</th>\n",
       "      <th>CarName</th>\n",
       "      <th>fueltype</th>\n",
       "      <th>aspiration</th>\n",
       "      <th>doornumber</th>\n",
       "      <th>carbody</th>\n",
       "      <th>drivewheel</th>\n",
       "      <th>enginelocation</th>\n",
       "      <th>wheelbase</th>\n",
       "      <th>carlength</th>\n",
       "      <th>carwidth</th>\n",
       "      <th>carheight</th>\n",
       "      <th>curbweight</th>\n",
       "      <th>enginetype</th>\n",
       "      <th>cylindernumber</th>\n",
       "      <th>enginesize</th>\n",
       "      <th>fuelsystem</th>\n",
       "      <th>boreratio</th>\n",
       "      <th>stroke</th>\n",
       "      <th>compressionratio</th>\n",
       "      <th>horsepower</th>\n",
       "      <th>peakrpm</th>\n",
       "      <th>citympg</th>\n",
       "      <th>highwaympg</th>\n",
       "      <th>price</th>\n",
       "    </tr>\n",
       "  </thead>\n",
       "  <tbody>\n",
       "    <tr>\n",
       "      <th>0</th>\n",
       "      <td>1</td>\n",
       "      <td>3</td>\n",
       "      <td>alfa-romero giulia</td>\n",
       "      <td>gas</td>\n",
       "      <td>std</td>\n",
       "      <td>two</td>\n",
       "      <td>convertible</td>\n",
       "      <td>rwd</td>\n",
       "      <td>front</td>\n",
       "      <td>88.6</td>\n",
       "      <td>168.8</td>\n",
       "      <td>64.1</td>\n",
       "      <td>48.8</td>\n",
       "      <td>2548</td>\n",
       "      <td>dohc</td>\n",
       "      <td>four</td>\n",
       "      <td>130</td>\n",
       "      <td>mpfi</td>\n",
       "      <td>3.47</td>\n",
       "      <td>2.68</td>\n",
       "      <td>9.0</td>\n",
       "      <td>111</td>\n",
       "      <td>5000</td>\n",
       "      <td>21</td>\n",
       "      <td>27</td>\n",
       "      <td>13495.0</td>\n",
       "    </tr>\n",
       "    <tr>\n",
       "      <th>1</th>\n",
       "      <td>2</td>\n",
       "      <td>3</td>\n",
       "      <td>alfa-romero stelvio</td>\n",
       "      <td>gas</td>\n",
       "      <td>std</td>\n",
       "      <td>two</td>\n",
       "      <td>convertible</td>\n",
       "      <td>rwd</td>\n",
       "      <td>front</td>\n",
       "      <td>88.6</td>\n",
       "      <td>168.8</td>\n",
       "      <td>64.1</td>\n",
       "      <td>48.8</td>\n",
       "      <td>2548</td>\n",
       "      <td>dohc</td>\n",
       "      <td>four</td>\n",
       "      <td>130</td>\n",
       "      <td>mpfi</td>\n",
       "      <td>3.47</td>\n",
       "      <td>2.68</td>\n",
       "      <td>9.0</td>\n",
       "      <td>111</td>\n",
       "      <td>5000</td>\n",
       "      <td>21</td>\n",
       "      <td>27</td>\n",
       "      <td>16500.0</td>\n",
       "    </tr>\n",
       "    <tr>\n",
       "      <th>2</th>\n",
       "      <td>3</td>\n",
       "      <td>1</td>\n",
       "      <td>alfa-romero Quadrifoglio</td>\n",
       "      <td>gas</td>\n",
       "      <td>std</td>\n",
       "      <td>two</td>\n",
       "      <td>hatchback</td>\n",
       "      <td>rwd</td>\n",
       "      <td>front</td>\n",
       "      <td>94.5</td>\n",
       "      <td>171.2</td>\n",
       "      <td>65.5</td>\n",
       "      <td>52.4</td>\n",
       "      <td>2823</td>\n",
       "      <td>ohcv</td>\n",
       "      <td>six</td>\n",
       "      <td>152</td>\n",
       "      <td>mpfi</td>\n",
       "      <td>2.68</td>\n",
       "      <td>3.47</td>\n",
       "      <td>9.0</td>\n",
       "      <td>154</td>\n",
       "      <td>5000</td>\n",
       "      <td>19</td>\n",
       "      <td>26</td>\n",
       "      <td>16500.0</td>\n",
       "    </tr>\n",
       "    <tr>\n",
       "      <th>3</th>\n",
       "      <td>4</td>\n",
       "      <td>2</td>\n",
       "      <td>audi 100 ls</td>\n",
       "      <td>gas</td>\n",
       "      <td>std</td>\n",
       "      <td>four</td>\n",
       "      <td>sedan</td>\n",
       "      <td>fwd</td>\n",
       "      <td>front</td>\n",
       "      <td>99.8</td>\n",
       "      <td>176.6</td>\n",
       "      <td>66.2</td>\n",
       "      <td>54.3</td>\n",
       "      <td>2337</td>\n",
       "      <td>ohc</td>\n",
       "      <td>four</td>\n",
       "      <td>109</td>\n",
       "      <td>mpfi</td>\n",
       "      <td>3.19</td>\n",
       "      <td>3.40</td>\n",
       "      <td>10.0</td>\n",
       "      <td>102</td>\n",
       "      <td>5500</td>\n",
       "      <td>24</td>\n",
       "      <td>30</td>\n",
       "      <td>13950.0</td>\n",
       "    </tr>\n",
       "    <tr>\n",
       "      <th>4</th>\n",
       "      <td>5</td>\n",
       "      <td>2</td>\n",
       "      <td>audi 100ls</td>\n",
       "      <td>gas</td>\n",
       "      <td>std</td>\n",
       "      <td>four</td>\n",
       "      <td>sedan</td>\n",
       "      <td>4wd</td>\n",
       "      <td>front</td>\n",
       "      <td>99.4</td>\n",
       "      <td>176.6</td>\n",
       "      <td>66.4</td>\n",
       "      <td>54.3</td>\n",
       "      <td>2824</td>\n",
       "      <td>ohc</td>\n",
       "      <td>five</td>\n",
       "      <td>136</td>\n",
       "      <td>mpfi</td>\n",
       "      <td>3.19</td>\n",
       "      <td>3.40</td>\n",
       "      <td>8.0</td>\n",
       "      <td>115</td>\n",
       "      <td>5500</td>\n",
       "      <td>18</td>\n",
       "      <td>22</td>\n",
       "      <td>17450.0</td>\n",
       "    </tr>\n",
       "  </tbody>\n",
       "</table>\n",
       "</div>"
      ],
      "text/plain": [
       "   car_ID  symboling                   CarName  ... citympg highwaympg    price\n",
       "0       1          3        alfa-romero giulia  ...      21         27  13495.0\n",
       "1       2          3       alfa-romero stelvio  ...      21         27  16500.0\n",
       "2       3          1  alfa-romero Quadrifoglio  ...      19         26  16500.0\n",
       "3       4          2               audi 100 ls  ...      24         30  13950.0\n",
       "4       5          2                audi 100ls  ...      18         22  17450.0\n",
       "\n",
       "[5 rows x 26 columns]"
      ]
     },
     "execution_count": 151,
     "metadata": {},
     "output_type": "execute_result"
    }
   ],
   "source": [
    "df.head()"
   ]
  },
  {
   "cell_type": "code",
   "execution_count": 152,
   "id": "4ad60d3d-25c3-4db7-b921-a043e8a72603",
   "metadata": {},
   "outputs": [
    {
     "name": "stdout",
     "output_type": "stream",
     "text": [
      "<class 'pandas.core.frame.DataFrame'>\n",
      "RangeIndex: 205 entries, 0 to 204\n",
      "Data columns (total 26 columns):\n",
      " #   Column            Non-Null Count  Dtype  \n",
      "---  ------            --------------  -----  \n",
      " 0   car_ID            205 non-null    int64  \n",
      " 1   symboling         205 non-null    int64  \n",
      " 2   CarName           205 non-null    object \n",
      " 3   fueltype          205 non-null    object \n",
      " 4   aspiration        205 non-null    object \n",
      " 5   doornumber        205 non-null    object \n",
      " 6   carbody           205 non-null    object \n",
      " 7   drivewheel        205 non-null    object \n",
      " 8   enginelocation    205 non-null    object \n",
      " 9   wheelbase         205 non-null    float64\n",
      " 10  carlength         205 non-null    float64\n",
      " 11  carwidth          205 non-null    float64\n",
      " 12  carheight         205 non-null    float64\n",
      " 13  curbweight        205 non-null    int64  \n",
      " 14  enginetype        205 non-null    object \n",
      " 15  cylindernumber    205 non-null    object \n",
      " 16  enginesize        205 non-null    int64  \n",
      " 17  fuelsystem        205 non-null    object \n",
      " 18  boreratio         205 non-null    float64\n",
      " 19  stroke            205 non-null    float64\n",
      " 20  compressionratio  205 non-null    float64\n",
      " 21  horsepower        205 non-null    int64  \n",
      " 22  peakrpm           205 non-null    int64  \n",
      " 23  citympg           205 non-null    int64  \n",
      " 24  highwaympg        205 non-null    int64  \n",
      " 25  price             205 non-null    float64\n",
      "dtypes: float64(8), int64(8), object(10)\n",
      "memory usage: 41.8+ KB\n"
     ]
    }
   ],
   "source": [
    "df.info()"
   ]
  },
  {
   "cell_type": "code",
   "execution_count": 153,
   "id": "3d3631f9-aadf-4ddb-8937-9ad04c2fd066",
   "metadata": {},
   "outputs": [
    {
     "data": {
      "text/plain": [
       "car_ID              0\n",
       "symboling           0\n",
       "CarName             0\n",
       "fueltype            0\n",
       "aspiration          0\n",
       "doornumber          0\n",
       "carbody             0\n",
       "drivewheel          0\n",
       "enginelocation      0\n",
       "wheelbase           0\n",
       "carlength           0\n",
       "carwidth            0\n",
       "carheight           0\n",
       "curbweight          0\n",
       "enginetype          0\n",
       "cylindernumber      0\n",
       "enginesize          0\n",
       "fuelsystem          0\n",
       "boreratio           0\n",
       "stroke              0\n",
       "compressionratio    0\n",
       "horsepower          0\n",
       "peakrpm             0\n",
       "citympg             0\n",
       "highwaympg          0\n",
       "price               0\n",
       "dtype: int64"
      ]
     },
     "execution_count": 153,
     "metadata": {},
     "output_type": "execute_result"
    }
   ],
   "source": [
    "df.isnull().sum()"
   ]
  },
  {
   "cell_type": "code",
   "execution_count": 154,
   "id": "bb0604b9-3373-47af-8932-5d896b9b4669",
   "metadata": {},
   "outputs": [],
   "source": [
    "df.drop(\"car_ID\",axis =1,inplace=True)"
   ]
  },
  {
   "cell_type": "code",
   "execution_count": 155,
   "id": "5fbd16b3-a629-48c8-9e2a-011f195c61de",
   "metadata": {},
   "outputs": [
    {
     "data": {
      "text/plain": [
       "Index(['CarName', 'fueltype', 'aspiration', 'doornumber', 'carbody',\n",
       "       'drivewheel', 'enginelocation', 'enginetype', 'cylindernumber',\n",
       "       'fuelsystem'],\n",
       "      dtype='object')"
      ]
     },
     "execution_count": 155,
     "metadata": {},
     "output_type": "execute_result"
    }
   ],
   "source": [
    "df.select_dtypes(include=\"object\").columns"
   ]
  },
  {
   "cell_type": "code",
   "execution_count": 156,
   "id": "0d7d5700-e860-4553-8873-8fb2b36abcf2",
   "metadata": {},
   "outputs": [
    {
     "data": {
      "text/plain": [
       "array(['gas', 'diesel'], dtype=object)"
      ]
     },
     "execution_count": 156,
     "metadata": {},
     "output_type": "execute_result"
    }
   ],
   "source": [
    "df[\"fueltype\"].unique()"
   ]
  },
  {
   "cell_type": "code",
   "execution_count": 157,
   "id": "3da5d3d0-9db1-4fc5-88fb-7e427b7e3d8f",
   "metadata": {},
   "outputs": [],
   "source": [
    "# One-Hot Encoding\n",
    "\n",
    "df_encoded=df.copy()\n",
    "categorical_cols = [\"fueltype\",'aspiration', 'drivewheel', 'fuelsystem']\n",
    "for col in categorical_cols:\n",
    "    df_encoded = pd.get_dummies(df_encoded, columns=[col], drop_first=True)\n",
    "  \n",
    "    one_hot_cols = [col for col in df_encoded.columns if df_encoded[col].dtype == 'bool']\n",
    "    for c in one_hot_cols:\n",
    "        df_encoded[c] = df_encoded[c].astype(int)\n",
    "\n",
    "df_encoded['doornumber'] = df_encoded['doornumber'].map({'two': 2, 'four': 4})\n",
    "df_encoded['enginelocation'] = df_encoded['enginelocation'].map({'front':0, 'rear':1})\n",
    "df_encoded['cylindernumber'] = df_encoded['cylindernumber'].map({'four':4, 'six':6, 'five':5, 'three':3, 'twelve':12, 'two':2, 'eight':8})\n"
   ]
  },
  {
   "cell_type": "code",
   "execution_count": 158,
   "id": "2c8ad19a-c22b-4849-a204-2047ceb2e837",
   "metadata": {},
   "outputs": [],
   "source": [
    "# K-Fold target encoding\n",
    "kf = KFold(n_splits=5, shuffle=True,random_state=42)\n",
    "df_encoded['enginetype_encoded'] = np.nan\n",
    "\n",
    "\n",
    "for train_index, val_index in kf.split(df):\n",
    "    X_train, X_val = df_encoded.iloc[train_index], df_encoded.iloc[val_index]\n",
    "    \n",
    "    # train fold üzerinde enginetype ortalama price\n",
    "    target_mean = X_train.groupby('enginetype')['price'].mean()\n",
    "    \n",
    "    # validation fold’u encode et\n",
    "    df_encoded.loc[val_index, 'enginetype_encoded'] = X_val['enginetype'].map(target_mean)\n",
    "\n",
    "median_encoded = df_encoded['enginetype_encoded'].median()\n",
    "df_encoded['enginetype_encoded']=df_encoded['enginetype_encoded'].fillna(median_encoded)    "
   ]
  },
  {
   "cell_type": "code",
   "execution_count": 159,
   "id": "df94c6ff-a384-4582-b1a3-ec6120445e65",
   "metadata": {},
   "outputs": [
    {
     "data": {
      "text/plain": [
       "0    18536.545455\n",
       "1    16707.375000\n",
       "2    25814.916667\n",
       "3    11622.540233\n",
       "4    11487.450568\n",
       "Name: enginetype_encoded, dtype: float64"
      ]
     },
     "execution_count": 159,
     "metadata": {},
     "output_type": "execute_result"
    }
   ],
   "source": [
    "df_encoded[\"enginetype_encoded\"].head()"
   ]
  },
  {
   "cell_type": "code",
   "execution_count": 160,
   "id": "069f80d8-5aeb-44fb-b4a8-b9c399e4aadd",
   "metadata": {},
   "outputs": [],
   "source": [
    "df_encoded.drop('enginetype', axis=1, inplace=True)"
   ]
  },
  {
   "cell_type": "code",
   "execution_count": 161,
   "id": "80da39e3-a43e-4540-8423-508d87e2884c",
   "metadata": {},
   "outputs": [
    {
     "data": {
      "text/plain": [
       "(205, 32)"
      ]
     },
     "execution_count": 161,
     "metadata": {},
     "output_type": "execute_result"
    }
   ],
   "source": [
    "df_encoded.shape"
   ]
  },
  {
   "cell_type": "code",
   "execution_count": 162,
   "id": "f2913073-fdf1-46f2-a3b4-60ef837246e9",
   "metadata": {},
   "outputs": [
    {
     "data": {
      "text/plain": [
       "Index(['CarName', 'carbody'], dtype='object')"
      ]
     },
     "execution_count": 162,
     "metadata": {},
     "output_type": "execute_result"
    }
   ],
   "source": [
    "df_encoded.select_dtypes(include=\"object\").columns"
   ]
  },
  {
   "cell_type": "code",
   "execution_count": 163,
   "id": "32838756-8399-4ea3-8338-cc43a4711ccc",
   "metadata": {},
   "outputs": [
    {
     "name": "stdout",
     "output_type": "stream",
     "text": [
      "<class 'pandas.core.frame.DataFrame'>\n",
      "RangeIndex: 205 entries, 0 to 204\n",
      "Data columns (total 32 columns):\n",
      " #   Column              Non-Null Count  Dtype  \n",
      "---  ------              --------------  -----  \n",
      " 0   symboling           205 non-null    int64  \n",
      " 1   CarName             205 non-null    object \n",
      " 2   doornumber          205 non-null    int64  \n",
      " 3   carbody             205 non-null    object \n",
      " 4   enginelocation      205 non-null    int64  \n",
      " 5   wheelbase           205 non-null    float64\n",
      " 6   carlength           205 non-null    float64\n",
      " 7   carwidth            205 non-null    float64\n",
      " 8   carheight           205 non-null    float64\n",
      " 9   curbweight          205 non-null    int64  \n",
      " 10  cylindernumber      205 non-null    int64  \n",
      " 11  enginesize          205 non-null    int64  \n",
      " 12  boreratio           205 non-null    float64\n",
      " 13  stroke              205 non-null    float64\n",
      " 14  compressionratio    205 non-null    float64\n",
      " 15  horsepower          205 non-null    int64  \n",
      " 16  peakrpm             205 non-null    int64  \n",
      " 17  citympg             205 non-null    int64  \n",
      " 18  highwaympg          205 non-null    int64  \n",
      " 19  price               205 non-null    float64\n",
      " 20  fueltype_gas        205 non-null    int64  \n",
      " 21  aspiration_turbo    205 non-null    int64  \n",
      " 22  drivewheel_fwd      205 non-null    int64  \n",
      " 23  drivewheel_rwd      205 non-null    int64  \n",
      " 24  fuelsystem_2bbl     205 non-null    int64  \n",
      " 25  fuelsystem_4bbl     205 non-null    int64  \n",
      " 26  fuelsystem_idi      205 non-null    int64  \n",
      " 27  fuelsystem_mfi      205 non-null    int64  \n",
      " 28  fuelsystem_mpfi     205 non-null    int64  \n",
      " 29  fuelsystem_spdi     205 non-null    int64  \n",
      " 30  fuelsystem_spfi     205 non-null    int64  \n",
      " 31  enginetype_encoded  205 non-null    float64\n",
      "dtypes: float64(9), int64(21), object(2)\n",
      "memory usage: 51.4+ KB\n"
     ]
    }
   ],
   "source": [
    "df_encoded.info()"
   ]
  },
  {
   "cell_type": "code",
   "execution_count": 164,
   "id": "97ebf7c0-36f3-4b93-83fa-657e4d43974e",
   "metadata": {},
   "outputs": [
    {
     "data": {
      "image/png": "[encoded data removed]",
      "text/plain": [
       "<Figure size 1200x600 with 1 Axes>"
      ]
     },
     "metadata": {},
     "output_type": "display_data"
    }
   ],
   "source": [
    "numeric_df = df_encoded.select_dtypes(include='number')\n",
    "plt.figure(figsize= (12,6))\n",
    "sns.histplot(df['price'], kde=True)\n",
    "plt.show()"
   ]
  },
  {
   "cell_type": "code",
   "execution_count": 165,
   "id": "aff691b2-e78f-4ae4-809a-ffa3e6d4ba86",
   "metadata": {},
   "outputs": [
    {
     "data": {
      "text/plain": [
       "price                 1.000000\n",
       "enginesize            0.874145\n",
       "curbweight            0.835305\n",
       "horsepower            0.808139\n",
       "carwidth              0.759325\n",
       "cylindernumber        0.718305\n",
       "carlength             0.682920\n",
       "drivewheel_rwd        0.638957\n",
       "wheelbase             0.577816\n",
       "boreratio             0.553173\n",
       "fuelsystem_mpfi       0.517075\n",
       "enginetype_encoded    0.399032\n",
       "enginelocation        0.324973\n",
       "aspiration_turbo      0.177926\n",
       "carheight             0.119336\n",
       "fuelsystem_idi        0.105679\n",
       "stroke                0.079443\n",
       "compressionratio      0.067984\n",
       "doornumber            0.031835\n",
       "fuelsystem_mfi       -0.002747\n",
       "fuelsystem_4bbl      -0.017306\n",
       "fuelsystem_spfi      -0.019580\n",
       "fuelsystem_spdi      -0.061475\n",
       "symboling            -0.079978\n",
       "peakrpm              -0.085267\n",
       "fueltype_gas         -0.105679\n",
       "fuelsystem_2bbl      -0.501374\n",
       "drivewheel_fwd       -0.601950\n",
       "citympg              -0.685751\n",
       "highwaympg           -0.697599\n",
       "Name: price, dtype: float64"
      ]
     },
     "execution_count": 165,
     "metadata": {},
     "output_type": "execute_result"
    }
   ],
   "source": [
    "corr = numeric_df.corr()\n",
    "corr['price'].sort_values(ascending=False)"
   ]
  },
  {
   "cell_type": "code",
   "execution_count": 166,
   "id": "d159887a-6347-40f2-bba2-f2e430ae3dc6",
   "metadata": {},
   "outputs": [],
   "source": [
    "scaler =StandardScaler()\n",
    "df_scaled =scaler.fit_transform(numeric_df)"
   ]
  },
  {
   "cell_type": "code",
   "execution_count": 204,
   "id": "66e51bc6-23cc-4c9e-8529-0d3e6b7669ad",
   "metadata": {},
   "outputs": [
    {
     "name": "stdout",
     "output_type": "stream",
     "text": [
      "Seçilen En İyi Özellikler:\n",
      "Index(['carlength', 'carwidth', 'curbweight', 'cylindernumber', 'enginesize',\n",
      "       'boreratio', 'horsepower', 'citympg', 'highwaympg', 'drivewheel_fwd',\n",
      "       'drivewheel_rwd', 'fuelsystem_mpfi'],\n",
      "      dtype='object')\n"
     ]
    }
   ],
   "source": [
    "# Feature Selection K-Best\n",
    "X = numeric_df.drop('price',axis=1)\n",
    "y = numeric_df['price']\n",
    "\n",
    "X_train, X_test, y_train, y_test =train_test_split(X, y, test_size=0.2, random_state=42)\n",
    "\n",
    "select = SelectKBest(score_func=f_regression, k=12)\n",
    "X_train_new = select.fit_transform(X_train, y_train)\n",
    "X_test_new = select.transform(X_test) \n",
    "\n",
    "selected_features = X.columns[select.get_support()]\n",
    "print(\"Seçilen En İyi Özellikler:\")\n",
    "print(selected_features)\n"
   ]
  },
  {
   "cell_type": "code",
   "execution_count": 206,
   "id": "3e5d11b3-aefd-4cf4-9f0f-364badbabdd9",
   "metadata": {},
   "outputs": [
    {
     "name": "stdout",
     "output_type": "stream",
     "text": [
      "🔹 linear Models Results:\n",
      "MAE: 2042.83, MSE: 9765551.57, R2: 0.88\n",
      "----------------------------------------\n",
      "🔹 ridge Models Results:\n",
      "MAE: 2094.59, MSE: 10415634.40, R2: 0.87\n",
      "----------------------------------------\n",
      "🔹 lasso Models Results:\n",
      "MAE: 2042.80, MSE: 9765039.06, R2: 0.88\n",
      "----------------------------------------\n"
     ]
    }
   ],
   "source": [
    "models ={\n",
    "    'linear':LinearRegression(),\n",
    "    'ridge':Ridge(alpha=0.8),\n",
    "    'lasso':Lasso(alpha=0.01),\n",
    "}\n",
    "\n",
    "for name, models in models.items():\n",
    "    models.fit(X_train,y_train)\n",
    "    y_pred = models.predict(X_test)\n",
    "\n",
    "    mae=mean_absolute_error(y_test,y_pred)\n",
    "    mse=mean_squared_error(y_test,y_pred)\n",
    "    r2=r2_score(y_test,y_pred)\n",
    "    print(f\"🔹 {name} Models Results:\")\n",
    "    print(f\"MAE: {mae:.2f}, MSE: {mse:.2f}, R2: {r2:.2f}\")\n",
    "    print(\"-\"*40)"
   ]
  },
  {
   "cell_type": "code",
   "execution_count": 207,
   "id": "a52de677-b29d-4fda-bbc8-21529c0aa6b2",
   "metadata": {},
   "outputs": [
    {
     "name": "stdout",
     "output_type": "stream",
     "text": [
      "{'alpha': 0.8}\n"
     ]
    }
   ],
   "source": [
    "# Best alpha\n",
    "alphas = [0.001, 0.01, 0.1, 0.7, 0.8, 1, 1.2, 1.3, 1.4, 1.5 ]\n",
    "ridge = Ridge()\n",
    "grid = GridSearchCV(ridge, {'alpha': alphas}, cv=9)\n",
    "grid.fit(X_train, y_train)\n",
    "print(grid.best_params_)"
   ]
  },
  {
   "cell_type": "code",
   "execution_count": 205,
   "id": "af7ef033-232b-4748-b1c0-f867cf843749",
   "metadata": {},
   "outputs": [
    {
     "data": {
      "application/vnd.jupyter.widget-view+json": {
       "model_id": "0e875d1fdd5641f0b0e7bba739d15361",
       "version_major": 2,
       "version_minor": 0
      },
      "text/plain": [
       "  0%|          | 0/42 [00:00<?, ?it/s]"
      ]
     },
     "metadata": {},
     "output_type": "display_data"
    },
    {
     "name": "stdout",
     "output_type": "stream",
     "text": [
      "[LightGBM] [Info] Auto-choosing col-wise multi-threading, the overhead of testing was 0.000073 seconds.\n",
      "You can set `force_col_wise=true` to remove the overhead.\n",
      "[LightGBM] [Info] Total Bins 258\n",
      "[LightGBM] [Info] Number of data points in the train set: 164, number of used features: 12\n",
      "[LightGBM] [Info] Start training from score 13223.414634\n",
      "[LightGBM] [Warning] No further splits with positive gain, best gain: -inf\n",
      "[LightGBM] [Warning] No further splits with positive gain, best gain: -inf\n",
      "[LightGBM] [Warning] No further splits with positive gain, best gain: -inf\n",
      "[LightGBM] [Warning] No further splits with positive gain, best gain: -inf\n",
      "[LightGBM] [Warning] No further splits with positive gain, best gain: -inf\n",
      "[LightGBM] [Warning] No further splits with positive gain, best gain: -inf\n",
      "[LightGBM] [Warning] No further splits with positive gain, best gain: -inf\n",
      "[LightGBM] [Warning] No further splits with positive gain, best gain: -inf\n",
      "[LightGBM] [Warning] No further splits with positive gain, best gain: -inf\n",
      "[LightGBM] [Warning] No further splits with positive gain, best gain: -inf\n",
      "[LightGBM] [Warning] No further splits with positive gain, best gain: -inf\n",
      "[LightGBM] [Warning] No further splits with positive gain, best gain: -inf\n",
      "[LightGBM] [Warning] No further splits with positive gain, best gain: -inf\n",
      "[LightGBM] [Warning] No further splits with positive gain, best gain: -inf\n",
      "[LightGBM] [Warning] No further splits with positive gain, best gain: -inf\n",
      "[LightGBM] [Warning] No further splits with positive gain, best gain: -inf\n",
      "[LightGBM] [Warning] No further splits with positive gain, best gain: -inf\n",
      "[LightGBM] [Warning] No further splits with positive gain, best gain: -inf\n",
      "[LightGBM] [Warning] No further splits with positive gain, best gain: -inf\n",
      "[LightGBM] [Warning] No further splits with positive gain, best gain: -inf\n",
      "[LightGBM] [Warning] No further splits with positive gain, best gain: -inf\n",
      "[LightGBM] [Warning] No further splits with positive gain, best gain: -inf\n",
      "[LightGBM] [Warning] No further splits with positive gain, best gain: -inf\n",
      "[LightGBM] [Warning] No further splits with positive gain, best gain: -inf\n",
      "[LightGBM] [Warning] No further splits with positive gain, best gain: -inf\n",
      "[LightGBM] [Warning] No further splits with positive gain, best gain: -inf\n",
      "[LightGBM] [Warning] No further splits with positive gain, best gain: -inf\n",
      "[LightGBM] [Warning] No further splits with positive gain, best gain: -inf\n",
      "[LightGBM] [Warning] No further splits with positive gain, best gain: -inf\n",
      "[LightGBM] [Warning] No further splits with positive gain, best gain: -inf\n",
      "[LightGBM] [Warning] No further splits with positive gain, best gain: -inf\n",
      "[LightGBM] [Warning] No further splits with positive gain, best gain: -inf\n",
      "[LightGBM] [Warning] No further splits with positive gain, best gain: -inf\n",
      "[LightGBM] [Warning] No further splits with positive gain, best gain: -inf\n",
      "[LightGBM] [Warning] No further splits with positive gain, best gain: -inf\n",
      "[LightGBM] [Warning] No further splits with positive gain, best gain: -inf\n",
      "[LightGBM] [Warning] No further splits with positive gain, best gain: -inf\n",
      "[LightGBM] [Warning] No further splits with positive gain, best gain: -inf\n",
      "[LightGBM] [Warning] No further splits with positive gain, best gain: -inf\n",
      "[LightGBM] [Warning] No further splits with positive gain, best gain: -inf\n",
      "[LightGBM] [Warning] No further splits with positive gain, best gain: -inf\n",
      "[LightGBM] [Warning] No further splits with positive gain, best gain: -inf\n",
      "[LightGBM] [Warning] No further splits with positive gain, best gain: -inf\n",
      "[LightGBM] [Warning] No further splits with positive gain, best gain: -inf\n",
      "[LightGBM] [Warning] No further splits with positive gain, best gain: -inf\n",
      "[LightGBM] [Warning] No further splits with positive gain, best gain: -inf\n",
      "[LightGBM] [Warning] No further splits with positive gain, best gain: -inf\n",
      "[LightGBM] [Warning] No further splits with positive gain, best gain: -inf\n",
      "[LightGBM] [Warning] No further splits with positive gain, best gain: -inf\n",
      "[LightGBM] [Warning] No further splits with positive gain, best gain: -inf\n",
      "[LightGBM] [Warning] No further splits with positive gain, best gain: -inf\n",
      "[LightGBM] [Warning] No further splits with positive gain, best gain: -inf\n",
      "[LightGBM] [Warning] No further splits with positive gain, best gain: -inf\n",
      "[LightGBM] [Warning] No further splits with positive gain, best gain: -inf\n",
      "[LightGBM] [Warning] No further splits with positive gain, best gain: -inf\n",
      "[LightGBM] [Warning] No further splits with positive gain, best gain: -inf\n",
      "[LightGBM] [Warning] No further splits with positive gain, best gain: -inf\n",
      "[LightGBM] [Warning] No further splits with positive gain, best gain: -inf\n",
      "[LightGBM] [Warning] No further splits with positive gain, best gain: -inf\n",
      "[LightGBM] [Warning] No further splits with positive gain, best gain: -inf\n",
      "[LightGBM] [Warning] No further splits with positive gain, best gain: -inf\n",
      "[LightGBM] [Warning] No further splits with positive gain, best gain: -inf\n",
      "[LightGBM] [Warning] No further splits with positive gain, best gain: -inf\n",
      "[LightGBM] [Warning] No further splits with positive gain, best gain: -inf\n",
      "[LightGBM] [Warning] No further splits with positive gain, best gain: -inf\n",
      "[LightGBM] [Warning] No further splits with positive gain, best gain: -inf\n",
      "[LightGBM] [Warning] No further splits with positive gain, best gain: -inf\n",
      "[LightGBM] [Warning] No further splits with positive gain, best gain: -inf\n",
      "[LightGBM] [Warning] No further splits with positive gain, best gain: -inf\n",
      "[LightGBM] [Warning] No further splits with positive gain, best gain: -inf\n",
      "[LightGBM] [Warning] No further splits with positive gain, best gain: -inf\n",
      "[LightGBM] [Warning] No further splits with positive gain, best gain: -inf\n",
      "[LightGBM] [Warning] No further splits with positive gain, best gain: -inf\n",
      "[LightGBM] [Warning] No further splits with positive gain, best gain: -inf\n",
      "[LightGBM] [Warning] No further splits with positive gain, best gain: -inf\n",
      "[LightGBM] [Warning] No further splits with positive gain, best gain: -inf\n",
      "[LightGBM] [Warning] No further splits with positive gain, best gain: -inf\n",
      "[LightGBM] [Warning] No further splits with positive gain, best gain: -inf\n",
      "[LightGBM] [Warning] No further splits with positive gain, best gain: -inf\n",
      "[LightGBM] [Warning] No further splits with positive gain, best gain: -inf\n",
      "[LightGBM] [Warning] No further splits with positive gain, best gain: -inf\n",
      "[LightGBM] [Warning] No further splits with positive gain, best gain: -inf\n",
      "[LightGBM] [Warning] No further splits with positive gain, best gain: -inf\n",
      "[LightGBM] [Warning] No further splits with positive gain, best gain: -inf\n",
      "[LightGBM] [Warning] No further splits with positive gain, best gain: -inf\n",
      "[LightGBM] [Warning] No further splits with positive gain, best gain: -inf\n",
      "[LightGBM] [Warning] No further splits with positive gain, best gain: -inf\n",
      "[LightGBM] [Warning] No further splits with positive gain, best gain: -inf\n",
      "[LightGBM] [Warning] No further splits with positive gain, best gain: -inf\n",
      "[LightGBM] [Warning] No further splits with positive gain, best gain: -inf\n",
      "[LightGBM] [Warning] No further splits with positive gain, best gain: -inf\n",
      "[LightGBM] [Warning] No further splits with positive gain, best gain: -inf\n",
      "[LightGBM] [Warning] No further splits with positive gain, best gain: -inf\n",
      "[LightGBM] [Warning] No further splits with positive gain, best gain: -inf\n",
      "[LightGBM] [Warning] No further splits with positive gain, best gain: -inf\n",
      "[LightGBM] [Warning] No further splits with positive gain, best gain: -inf\n",
      "[LightGBM] [Warning] No further splits with positive gain, best gain: -inf\n",
      "[LightGBM] [Warning] No further splits with positive gain, best gain: -inf\n",
      "[LightGBM] [Warning] No further splits with positive gain, best gain: -inf\n",
      "[LightGBM] [Warning] No further splits with positive gain, best gain: -inf\n",
      "                               Adjusted R-Squared  ...  Time Taken\n",
      "Model                                              ...            \n",
      "RandomForestRegressor                        0.94  ...        0.18\n",
      "BaggingRegressor                             0.93  ...        0.03\n",
      "ExtraTreesRegressor                          0.91  ...        0.09\n",
      "XGBRegressor                                 0.90  ...        0.06\n",
      "ExtraTreeRegressor                           0.89  ...        0.01\n",
      "GradientBoostingRegressor                    0.89  ...        0.11\n",
      "AdaBoostRegressor                            0.86  ...        0.11\n",
      "DecisionTreeRegressor                        0.83  ...        0.01\n",
      "HistGradientBoostingRegressor                0.81  ...        0.10\n",
      "PoissonRegressor                             0.81  ...        0.01\n",
      "LGBMRegressor                                0.78  ...        0.03\n",
      "LinearRegression                             0.78  ...        0.01\n",
      "TransformedTargetRegressor                   0.78  ...        0.01\n",
      "LassoLars                                    0.78  ...        0.02\n",
      "Lasso                                        0.78  ...        0.01\n",
      "Ridge                                        0.77  ...        0.01\n",
      "LassoLarsIC                                  0.77  ...        0.03\n",
      "OrthogonalMatchingPursuitCV                  0.76  ...        0.01\n",
      "BayesianRidge                                0.76  ...        0.01\n",
      "LassoLarsCV                                  0.76  ...        0.04\n",
      "LassoCV                                      0.76  ...        0.09\n",
      "SGDRegressor                                 0.76  ...        0.01\n",
      "RidgeCV                                      0.76  ...        0.01\n",
      "HuberRegressor                               0.76  ...        0.02\n",
      "GammaRegressor                               0.73  ...        0.01\n",
      "LarsCV                                       0.73  ...        0.03\n",
      "Lars                                         0.72  ...        0.01\n",
      "OrthogonalMatchingPursuit                    0.72  ...        0.01\n",
      "PassiveAggressiveRegressor                   0.71  ...        0.01\n",
      "ElasticNet                                   0.70  ...        0.01\n",
      "KNeighborsRegressor                          0.68  ...        0.01\n",
      "TweedieRegressor                             0.67  ...        0.01\n",
      "ElasticNetCV                                 0.40  ...        0.04\n",
      "RANSACRegressor                              0.28  ...        0.06\n",
      "GaussianProcessRegressor                     0.01  ...        0.01\n",
      "DummyRegressor                              -0.43  ...        0.01\n",
      "NuSVR                                       -0.46  ...        0.01\n",
      "SVR                                         -0.57  ...        0.01\n",
      "QuantileRegressor                           -0.58  ...        0.02\n",
      "KernelRidge                                 -2.61  ...        0.01\n",
      "LinearSVR                                   -3.64  ...        0.01\n",
      "MLPRegressor                                -3.70  ...        0.13\n",
      "\n",
      "[42 rows x 4 columns]\n"
     ]
    }
   ],
   "source": [
    "#Lazy predict\n",
    "reg = LazyRegressor(verbose=0, ignore_warnings=False, custom_metric=None)\n",
    "models, predictions = reg.fit(X_train_new, X_test_new, y_train, y_test)\n",
    "\n",
    "print(models)"
   ]
  },
  {
   "cell_type": "code",
   "execution_count": 216,
   "id": "63377918-0b0a-4d9f-aa69-7a7ca90f2d1a",
   "metadata": {},
   "outputs": [
    {
     "name": "stdout",
     "output_type": "stream",
     "text": [
      " Tahmini Fiyat: 12527.40\n"
     ]
    }
   ],
   "source": [
    "new_car_values = np.array([\n",
    "    172.0,  # carlength\n",
    "    65.0,   # carwidth\n",
    "    2800,   # curbweight\n",
    "    4,      # cylindernumber\n",
    "    130,    # enginesize\n",
    "    3.1,    # boreratio\n",
    "    110,    # horsepower\n",
    "    24,     # citympg\n",
    "    30,     # highwaympg\n",
    "    1,      # drivewheel_fwd\n",
    "    0,      # drivewheel_rwd\n",
    "    1       # fuelsystem_mpfi\n",
    "]).reshape(1, -1)\n",
    "\n",
    "# Listeyi modelin predict fonksiyonuna ver\n",
    "predicted_price = final_model.predict(np.array(new_car_values).reshape(1, -1))\n",
    "\n",
    "print(f\" Tahmini Fiyat: {predicted_price[0]:.2f}\")"
   ]
  },
  {
   "cell_type": "code",
   "execution_count": null,
   "id": "c9d6d364-1722-4ec0-a0c5-d0d9b6c90ae2",
   "metadata": {},
   "outputs": [],
   "source": []
  }
 ],
 "metadata": {
  "kernelspec": {
   "display_name": "Python [conda env:base] *",
   "language": "python",
   "name": "conda-base-py"
  },
  "language_info": {
   "codemirror_mode": {
    "name": "ipython",
    "version": 3
   },
   "file_extension": ".py",
   "mimetype": "text/x-python",
   "name": "python",
   "nbconvert_exporter": "python",
   "pygments_lexer": "ipython3",
   "version": "3.13.5"
  }
 },
 "nbformat": 4,
 "nbformat_minor": 5
}
